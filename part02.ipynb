{
 "cells": [
  {
   "cell_type": "code",
   "execution_count": 1,
   "metadata": {},
   "outputs": [
    {
     "data": {
      "text/plain": [
       "60"
      ]
     },
     "execution_count": 1,
     "metadata": {},
     "output_type": "execute_result"
    }
   ],
   "source": [
    "# LCM of two numbers\n",
    "\n",
    "def gcd(x, y):\n",
    "\n",
    "   while(y):\n",
    "       x, y = y, x % y\n",
    "   return x\n",
    "\n",
    "def lcm(x, y):\n",
    "   lcm = (x*y)//gcd(x,y)\n",
    "   return lcm\n",
    "\n",
    "lcm(12,15)"
   ]
  },
  {
   "cell_type": "code",
   "execution_count": 8,
   "metadata": {},
   "outputs": [
    {
     "data": {
      "text/plain": [
       "(3, 7)"
      ]
     },
     "execution_count": 8,
     "metadata": {},
     "output_type": "execute_result"
    }
   ],
   "source": [
    "# Counting Vowels and Consonants in a String\n",
    "\n",
    "def count_vowels_consonants(text):\n",
    "    vowels = \"AEIOUaeiou\"  \n",
    "    consonants = \"BCDFGHJKLMNPQRSTVWXYZbcdfghjklmnpqrstvwxyz\"  \n",
    "    vowel = 0\n",
    "    consonant = 0\n",
    "\n",
    "    for char in text:\n",
    "        if char in vowels:\n",
    "            vowel += 1\n",
    "        elif char in consonants:\n",
    "            consonant += 1\n",
    "    return vowel,consonant \n",
    "\n",
    "\n",
    "text = \"Hello World!\"\n",
    "count_vowels_consonants(text)"
   ]
  },
  {
   "cell_type": "code",
   "execution_count": 47,
   "metadata": {},
   "outputs": [
    {
     "name": "stdout",
     "output_type": "stream",
     "text": [
      "Using built-in function : !dlroW olleH\n",
      "using loop : !dlroW olleH\n"
     ]
    }
   ],
   "source": [
    "# String reverse\n",
    "\n",
    "s = 'Hello World!'\n",
    "print(f\"Using built-in function :\",s[::-1])\n",
    "\n",
    "rev = \"\"\n",
    "for i in s:\n",
    "      rev = i + rev\n",
    "print(f\"using loop : {rev}\")"
   ]
  },
  {
   "cell_type": "code",
   "execution_count": 49,
   "metadata": {},
   "outputs": [
    {
     "name": "stdout",
     "output_type": "stream",
     "text": [
      "large value : 8 and small value : 1\n"
     ]
    }
   ],
   "source": [
    "# Finding largest and smallest number in list\n",
    "\n",
    "l = [4, 7, 1, 8, 5]\n",
    "large , small = l[0] , l[0]\n",
    "for i in l:\n",
    "    if i > large:\n",
    "        large = i\n",
    "    if i < small:\n",
    "        small = i\n",
    "print(f\"large value : {large} and small value : {small}\")"
   ]
  },
  {
   "cell_type": "code",
   "execution_count": 59,
   "metadata": {},
   "outputs": [
    {
     "name": "stdout",
     "output_type": "stream",
     "text": [
      "using in-built function : [1, 1, 3, 4, 5, 9]\n",
      "Sorted list without using built-in function: [1, 1, 3, 4, 5, 9]\n"
     ]
    }
   ],
   "source": [
    "# Sorting an List\n",
    "\n",
    "l = [3, 1, 4, 1, 5, 9]\n",
    "n = len(l)\n",
    "print(f\"using in-built function :\",sorted(l))\n",
    "\n",
    "for i in range(n - 1):  \n",
    "    for j in range(n - 1 - i):  \n",
    "        if l[j] > l[j + 1]: \n",
    "            l[j], l[j + 1] = l[j + 1], l[j]\n",
    "\n",
    "print(\"Sorted list without using built-in function:\", l)"
   ]
  },
  {
   "cell_type": "code",
   "execution_count": 2,
   "metadata": {},
   "outputs": [
    {
     "name": "stdout",
     "output_type": "stream",
     "text": [
      "Sum of elements in list using built-in function: 15\n",
      "Sum of elements in list without using built-in function: 15\n"
     ]
    }
   ],
   "source": [
    "# sum of elements in list\n",
    "\n",
    "l = [1, 2, 3, 4, 5]\n",
    "print(\"Sum of elements in list using built-in function:\", sum(l))\n",
    "\n",
    "result = 0\n",
    "for i in l:\n",
    "    result += i\n",
    "print(\"Sum of elements in list without using built-in function:\", result)"
   ]
  },
  {
   "cell_type": "code",
   "execution_count": 4,
   "metadata": {},
   "outputs": [
    {
     "name": "stdout",
     "output_type": "stream",
     "text": [
      "Armstrong numbers between 100 and 500: [153, 370, 371, 407]\n"
     ]
    }
   ],
   "source": [
    "# Checking for Armstrong numbers in a range\n",
    "\n",
    "start, end = 100, 500  \n",
    "armstrong = [] \n",
    "\n",
    "for num in range(start, end + 1):  \n",
    "    order = len(str(num))  \n",
    "    sum_of_powers = sum(int(digit) ** order for digit in str(num))  \n",
    "    if num == sum_of_powers:  \n",
    "        armstrong.append(num)  \n",
    "\n",
    "print(f\"Armstrong numbers between {start} and {end}: {armstrong}\")"
   ]
  },
  {
   "cell_type": "code",
   "execution_count": 5,
   "metadata": {},
   "outputs": [
    {
     "name": "stdout",
     "output_type": "stream",
     "text": [
      "4 x 1 = 4\n",
      "4 x 2 = 8\n",
      "4 x 3 = 12\n",
      "4 x 4 = 16\n",
      "4 x 5 = 20\n"
     ]
    }
   ],
   "source": [
    "# Multiplication Generator\n",
    "\n",
    "def print_multiplication_table(number):\n",
    "\n",
    "    for i in range(1, 6):\n",
    "        result = number * i\n",
    "        print(f\"{number} x {i} = {result}\")\n",
    "\n",
    "number = 4\n",
    "print_multiplication_table(number)"
   ]
  },
  {
   "cell_type": "code",
   "execution_count": 6,
   "metadata": {},
   "outputs": [
    {
     "name": "stdout",
     "output_type": "stream",
     "text": [
      "28 is a perfect number.\n"
     ]
    }
   ],
   "source": [
    "# Perfect Number\n",
    "# A perfect number is a positive integer that is equal to the sum of its proper divisors excluding the number itself. \n",
    "\n",
    "\n",
    "def is_perfect_number(n):\n",
    "    if n <= 1:\n",
    "        return False\n",
    "    divisor_sum = sum(i for i in range(1, n) if n % i == 0)\n",
    "    return divisor_sum == n\n",
    "\n",
    "n = 28\n",
    "if is_perfect_number(n):\n",
    "    print(f\"{n} is a perfect number.\")\n",
    "else:\n",
    "    print(f\"{n} is not a perfect number.\")"
   ]
  }
 ],
 "metadata": {
  "kernelspec": {
   "display_name": "Python 3",
   "language": "python",
   "name": "python3"
  },
  "language_info": {
   "codemirror_mode": {
    "name": "ipython",
    "version": 3
   },
   "file_extension": ".py",
   "mimetype": "text/x-python",
   "name": "python",
   "nbconvert_exporter": "python",
   "pygments_lexer": "ipython3",
   "version": "3.9.6"
  }
 },
 "nbformat": 4,
 "nbformat_minor": 2
}
