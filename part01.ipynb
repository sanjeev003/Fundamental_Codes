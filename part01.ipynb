{
 "cells": [
  {
   "cell_type": "code",
   "execution_count": 1,
   "metadata": {},
   "outputs": [
    {
     "name": "stdout",
     "output_type": "stream",
     "text": [
      "5 is odd\n"
     ]
    }
   ],
   "source": [
    "# Even Odd\n",
    "\n",
    "n = 5 # any postive integer \n",
    "if n%2 == 0:\n",
    "    print(n, \"is even\")\n",
    "else:\n",
    "    print(n,\"is odd\")"
   ]
  },
  {
   "cell_type": "code",
   "execution_count": 2,
   "metadata": {},
   "outputs": [
    {
     "name": "stdout",
     "output_type": "stream",
     "text": [
      "False\n"
     ]
    }
   ],
   "source": [
    "# check for a prime nuhmber\n",
    "\n",
    "n =9 # any positive number > 2\n",
    "is_prime = True\n",
    "for i in range(2, n):\n",
    "    if n % i == 0:\n",
    "        is_prime = False\n",
    "        break\n",
    "print(is_prime)"
   ]
  },
  {
   "cell_type": "code",
   "execution_count": 3,
   "metadata": {},
   "outputs": [
    {
     "name": "stdout",
     "output_type": "stream",
     "text": [
      "1800 is not a leap year\n"
     ]
    }
   ],
   "source": [
    "# leap year\n",
    "\n",
    "n = 1800\n",
    "if n%4 == 0 and n%100 != 0:\n",
    "    print(n,\"is a leap year\")\n",
    "elif n%400 ==0:\n",
    "    print(n,\"is a leap year\")\n",
    "else:\n",
    "    print(n,\"is not a leap year\")"
   ]
  },
  {
   "cell_type": "code",
   "execution_count": 4,
   "metadata": {},
   "outputs": [
    {
     "name": "stdout",
     "output_type": "stream",
     "text": [
      "153 is an Armstrong Number\n"
     ]
    }
   ],
   "source": [
    "# Armstrong number (Sum of the cubes of the digits must be equal to the given number)\n",
    "\n",
    "n = N = 153\n",
    "sum,rem = 0,0\n",
    "while n!= 0:\n",
    "    rem = n%10\n",
    "    sum += rem**3\n",
    "    n = n//10 \n",
    "if sum == N:\n",
    "    print(N,\"is an Armstrong Number\")\n",
    "else:\n",
    "    print(N,\"is not an Armstrong Number\")"
   ]
  },
  {
   "cell_type": "code",
   "execution_count": 5,
   "metadata": {},
   "outputs": [
    {
     "name": "stdout",
     "output_type": "stream",
     "text": [
      "[0, 1, 1, 2, 3, 5, 8]\n"
     ]
    }
   ],
   "source": [
    "# Fibonocii series upto a limit\n",
    "\n",
    "def generate_fibonacci_series(n):\n",
    "    series = []\n",
    "    a, b = 0, 1\n",
    "    for _ in range(n):\n",
    "        if a > n:\n",
    "            break\n",
    "        else:\n",
    "            series.append(a)\n",
    "            a, b = b, a + b\n",
    "    return series\n",
    "print(generate_fibonacci_series(10)) "
   ]
  },
  {
   "cell_type": "code",
   "execution_count": 6,
   "metadata": {},
   "outputs": [
    {
     "name": "stdout",
     "output_type": "stream",
     "text": [
      "False\n"
     ]
    }
   ],
   "source": [
    "# string palindromne\n",
    "\n",
    "s = \"sanjeev\"\n",
    "is_pal = True\n",
    "for i in range(len(s) // 2):\n",
    "    if s[i] != s[-i - 1]:\n",
    "        is_pal = False\n",
    "        break\n",
    "print(is_pal) "
   ]
  },
  {
   "cell_type": "code",
   "execution_count": 7,
   "metadata": {},
   "outputs": [
    {
     "name": "stdout",
     "output_type": "stream",
     "text": [
      "    *\n",
      "   ***\n",
      "  *****\n",
      " *******\n",
      "*********\n"
     ]
    }
   ],
   "source": [
    "# pyramid pattern\n",
    "\n",
    "n = 5 # no of rows we want\n",
    "\n",
    "for i in range(1, n + 1):\n",
    "    print(\" \" * (n - i) + \"*\" * (2 * i - 1))"
   ]
  },
  {
   "cell_type": "code",
   "execution_count": 8,
   "metadata": {},
   "outputs": [
    {
     "name": "stdout",
     "output_type": "stream",
     "text": [
      "3628800\n"
     ]
    }
   ],
   "source": [
    "# factorial of a number\n",
    "\n",
    "n = 10 # the number which we want the factorial\n",
    "factorial = 1\n",
    "for i in range(1, n + 1):\n",
    "    factorial *= i\n",
    "print(factorial) "
   ]
  },
  {
   "cell_type": "code",
   "execution_count": 11,
   "metadata": {},
   "outputs": [
    {
     "name": "stdout",
     "output_type": "stream",
     "text": [
      "sum : 10\n"
     ]
    }
   ],
   "source": [
    "# sum of digits\n",
    "\n",
    "n = 1234\n",
    "sum = 0\n",
    "while(n>0):\n",
    "    digit = n % 10\n",
    "    sum += digit\n",
    "    n = n // 10\n",
    "print(\"sum :\",sum)"
   ]
  },
  {
   "cell_type": "code",
   "execution_count": null,
   "metadata": {},
   "outputs": [
    {
     "name": "stdout",
     "output_type": "stream",
     "text": [
      "6\n"
     ]
    }
   ],
   "source": [
    "# GCD of two numbers\n",
    "\n",
    "def gcd(a, b):\n",
    "    while b != 0:\n",
    "        a, b = b, a % b\n",
    "    return a\n",
    "print(gcd(48,18))"
   ]
  }
 ],
 "metadata": {
  "kernelspec": {
   "display_name": "Python 3",
   "language": "python",
   "name": "python3"
  },
  "language_info": {
   "codemirror_mode": {
    "name": "ipython",
    "version": 3
   },
   "file_extension": ".py",
   "mimetype": "text/x-python",
   "name": "python",
   "nbconvert_exporter": "python",
   "pygments_lexer": "ipython3",
   "version": "3.9.6"
  }
 },
 "nbformat": 4,
 "nbformat_minor": 2
}
