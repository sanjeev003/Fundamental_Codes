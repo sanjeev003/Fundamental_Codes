{
 "cells": [
  {
   "cell_type": "code",
   "execution_count": 6,
   "metadata": {},
   "outputs": [
    {
     "name": "stdout",
     "output_type": "stream",
     "text": [
      "30\n"
     ]
    }
   ],
   "source": [
    "# Calculating the Sum of Even Numbers in a Range\n",
    "\n",
    "def sum_of_even(start,end):\n",
    "    total = 0\n",
    "    for i in range(start,end+1):\n",
    "        if i%2 == 0:\n",
    "            total += i\n",
    "    return total\n",
    "\n",
    "print(sum_of_even(1,10))"
   ]
  },
  {
   "cell_type": "code",
   "execution_count": 7,
   "metadata": {},
   "outputs": [
    {
     "name": "stdout",
     "output_type": "stream",
     "text": [
      "25\n"
     ]
    }
   ],
   "source": [
    "# Calculating the Sum of Odd Numbers in a Range\n",
    "\n",
    "def sum_of_odd(start,end):\n",
    "    total = 0\n",
    "    for i in range(start,end+1):\n",
    "        if i % 2 != 0:\n",
    "            total += i\n",
    "    return total\n",
    "\n",
    "print(sum_of_odd(1,10))"
   ]
  },
  {
   "cell_type": "code",
   "execution_count": 16,
   "metadata": {},
   "outputs": [
    {
     "name": "stdout",
     "output_type": "stream",
     "text": [
      "Output: 3\n"
     ]
    }
   ],
   "source": [
    "# Finding the Fibonacci Number at a Specific Position\n",
    "# sequence: 0, 1, 1, 2, 3, 5...\n",
    "\n",
    "def fibonacci_iterative(n):\n",
    "    if n <= 0:\n",
    "        return \"Invalid input\"\n",
    "    elif n == 1:\n",
    "        return 0\n",
    "    elif n == 2:\n",
    "        return 1\n",
    "    \n",
    "    a, b = 0, 1\n",
    "    for _ in range(n - 2):\n",
    "        a, b = b, a + b\n",
    "    return b\n",
    "\n",
    "position = 5\n",
    "print(f\"Output: {fibonacci_iterative(position)}\") "
   ]
  },
  {
   "cell_type": "code",
   "execution_count": 8,
   "metadata": {},
   "outputs": [
    {
     "data": {
      "text/plain": [
       "[2, 3, 5, 7, 11, 13, 17, 19]"
      ]
     },
     "execution_count": 8,
     "metadata": {},
     "output_type": "execute_result"
    }
   ],
   "source": [
    "# Printing Prime Numbers Less Than a Given Number\n",
    "\n",
    "def primes(limit):\n",
    "    primes = []\n",
    "    for i in range(2, limit):\n",
    "        is_prime = True\n",
    "        for j in range(2, int(i ** 0.5) + 1):\n",
    "            if i % j == 0:\n",
    "                is_prime = False\n",
    "                break\n",
    "        if is_prime:\n",
    "            primes.append(i)\n",
    "    return primes\n",
    "\n",
    "primes(20)"
   ]
  },
  {
   "cell_type": "code",
   "execution_count": null,
   "metadata": {},
   "outputs": [
    {
     "name": "stdout",
     "output_type": "stream",
     "text": [
      "10\n"
     ]
    }
   ],
   "source": [
    "# Finding the Number of Digits in a Number\n",
    "\n",
    "import math\n",
    "\n",
    "def no_of_digits(n):\n",
    "    if n == 0:\n",
    "        return 1  \n",
    "    return math.floor(math.log10(abs(n)) + 1)\n",
    "print(no_of_digits(7894561230))"
   ]
  },
  {
   "cell_type": "code",
   "execution_count": null,
   "metadata": {},
   "outputs": [
    {
     "name": "stdout",
     "output_type": "stream",
     "text": [
      "9474 is a Narcissistic Number\n"
     ]
    }
   ],
   "source": [
    "# Checking if a Number is a Narcissistic Number\n",
    "# A number is a narcissistic number (where the sum of its digits raised to the power of the number of digits equals the number itself).\n",
    "\n",
    "def narcissistic(n):\n",
    "    number = n\n",
    "    total = 0\n",
    "    d = len(str(n))  \n",
    "    for i in str(n): \n",
    "        total += int(i) ** d\n",
    "    if total == number:\n",
    "        print(f\"{number} is a Narcissistic Number\")\n",
    "    else:\n",
    "        print(f\"{number} is not a Narcissistic Number\")\n",
    "\n",
    "narcissistic(9474) "
   ]
  },
  {
   "cell_type": "code",
   "execution_count": 47,
   "metadata": {},
   "outputs": [
    {
     "name": "stdout",
     "output_type": "stream",
     "text": [
      "1 \n",
      "2 3 \n",
      "4 5 6 \n"
     ]
    }
   ],
   "source": [
    "# Generating a Pattern of Numbers\n",
    "# 1  \n",
    "# 2 3  \n",
    "# 4 5 6  \n",
    "\n",
    "def pattern(rows):\n",
    "    num = 1\n",
    "    for i in range(rows):\n",
    "        for j in range(i+1):\n",
    "            print(num, end=' ')\n",
    "            num += 1\n",
    "        print()\n",
    "    return\n",
    "pattern(3)"
   ]
  },
  {
   "cell_type": "code",
   "execution_count": null,
   "metadata": {},
   "outputs": [
    {
     "data": {
      "text/plain": [
       "6"
      ]
     },
     "execution_count": 51,
     "metadata": {},
     "output_type": "execute_result"
    }
   ],
   "source": [
    "# Finding the Sum of the Digits of the Factorial of a Number\n",
    "\n",
    "import math\n",
    "\n",
    "def fact_sum(number):\n",
    "    factorial = math.factorial(number) \n",
    "    return sum(int(i) for i in str(factorial)) \n",
    "\n",
    "# Example usage\n",
    "print(fact_sum(4))  # Output: 6  (4! = 24 → 2 + 4 = 6)"
   ]
  },
  {
   "cell_type": "code",
   "execution_count": 61,
   "metadata": {},
   "outputs": [
    {
     "name": "stdout",
     "output_type": "stream",
     "text": [
      "malayalam\n"
     ]
    }
   ],
   "source": [
    "# Finding the Largest Palindrome in a String\n",
    "\n",
    "# 1st method manacher's algo optimal for large strings\n",
    "# def manacher_longest_palindrome(s):\n",
    "#     t = \"#\" + \"#\".join(s) + \"#\"  \n",
    "#     n = len(t)\n",
    "#     p = [0] * n  \n",
    "#     center, right = 0, 0  \n",
    "#     for i in range(n):\n",
    "#         mirror = 2 * center - i  \n",
    "#         if i < right:\n",
    "#             p[i] = min(right - i, p[mirror])  \n",
    "#         while i - p[i] - 1 >= 0 and i + p[i] + 1 < n and t[i - p[i] - 1] == t[i + p[i] + 1]:\n",
    "#             p[i] += 1\n",
    "#         if i + p[i] > right:\n",
    "#             center, right = i, i + p[i]\n",
    "#     max_length, max_center = max((p[i], i) for i in range(n))\n",
    "#     start = (max_center - max_length) // 2 \n",
    "#     return s[start:start + max_length]\n",
    "# print(manacher_longest_palindrome(\"malayalam\"))\n",
    "\n",
    "def largest_palindrome(s):\n",
    "    if not s:\n",
    "        return \"\"\n",
    "    start, max_length = 0, 0\n",
    "    def expand_around_center(left, right):\n",
    "        while left >= 0 and right < len(s) and s[left] == s[right]:\n",
    "            left -= 1\n",
    "            right += 1\n",
    "        return left + 1, right - left - 1\n",
    "    for i in range(len(s)):\n",
    "        l1, len1 = expand_around_center(i, i)\n",
    "        l2, len2 = expand_around_center(i, i + 1)\n",
    "        if len1 > max_length:\n",
    "            start, max_length = l1, len1\n",
    "        if len2 > max_length:\n",
    "            start, max_length = l2, len2\n",
    "    return s[start:start + max_length]\n",
    "string = \"malayalam\"\n",
    "print(largest_palindrome(string))  "
   ]
  },
  {
   "cell_type": "code",
   "execution_count": 62,
   "metadata": {},
   "outputs": [
    {
     "name": "stdout",
     "output_type": "stream",
     "text": [
      "[3]\n"
     ]
    }
   ],
   "source": [
    "# Finding Missing Numbers in a Sequence\n",
    "\n",
    "\n",
    "def find_missing_numbers(sequence, n):\n",
    "    full_set = set(range(1, n + 1))  \n",
    "    sequence_set = set(sequence)  \n",
    "    missing_numbers = list(full_set - sequence_set)  \n",
    "    return sorted(missing_numbers)  \n",
    "\n",
    "sequence = [1, 2, 4, 5]\n",
    "n = 5  \n",
    "print(find_missing_numbers(sequence, n))  "
   ]
  }
 ],
 "metadata": {
  "kernelspec": {
   "display_name": "Python 3",
   "language": "python",
   "name": "python3"
  },
  "language_info": {
   "codemirror_mode": {
    "name": "ipython",
    "version": 3
   },
   "file_extension": ".py",
   "mimetype": "text/x-python",
   "name": "python",
   "nbconvert_exporter": "python",
   "pygments_lexer": "ipython3",
   "version": "3.9.6"
  }
 },
 "nbformat": 4,
 "nbformat_minor": 2
}
