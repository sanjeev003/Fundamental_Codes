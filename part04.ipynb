{
 "cells": [
  {
   "cell_type": "code",
   "execution_count": 4,
   "metadata": {},
   "outputs": [
    {
     "name": "stdout",
     "output_type": "stream",
     "text": [
      "1\n",
      "1 1\n",
      "1 2 1\n",
      "1 3 3 1\n"
     ]
    }
   ],
   "source": [
    "# pascal's triangle\n",
    "\n",
    "\n",
    "def print_pascals_triangle(num_rows):\n",
    "    triangle = [[1]]\n",
    "    for i in range(1, num_rows):\n",
    "        row = [1]\n",
    "        for j in range(1, i):\n",
    "            row.append(triangle[i-1][j-1] + triangle[i-1][j])        \n",
    "        row.append(1)\n",
    "        triangle.append(row)    \n",
    "    for row in triangle:\n",
    "        print(' '.join(map(str, row)))\n",
    "\n",
    "print_pascals_triangle(4)"
   ]
  },
  {
   "cell_type": "code",
   "execution_count": 8,
   "metadata": {},
   "outputs": [
    {
     "name": "stdout",
     "output_type": "stream",
     "text": [
      "The median of [3, 1, 2, 4, 5] is 3\n",
      "The median of [1, 3, 5, 2, 4, 6] is 3.5\n"
     ]
    }
   ],
   "source": [
    "# Finding the Median of an Array\n",
    "\n",
    "def median(nums):\n",
    "    sorted_nums = sorted(nums)\n",
    "    n = len(sorted_nums)\n",
    "    if n % 2 == 1:\n",
    "        return sorted_nums[n // 2]\n",
    "    else:\n",
    "        mid1 = sorted_nums[n // 2 - 1]\n",
    "        mid2 = sorted_nums[n // 2]\n",
    "        return (mid1 + mid2) / 2\n",
    "\n",
    "\n",
    "array = [3, 1, 2, 4, 5]\n",
    "print(f\"The median of {array} is {median(array)}\")\n",
    "array2 = [1, 3, 5, 2, 4, 6]\n",
    "print(f\"The median of {array2} is {median(array2)}\")"
   ]
  },
  {
   "cell_type": "code",
   "execution_count": 18,
   "metadata": {},
   "outputs": [
    {
     "name": "stdout",
     "output_type": "stream",
     "text": [
      "using ** operator: 2187\n",
      "using the function we created: 2187\n"
     ]
    }
   ],
   "source": [
    "# Calculating the Power of a Number\n",
    "\n",
    "def calculate_power(base, exponent): # best case O(logn)\n",
    "    result = base ** exponent \n",
    "    return result\n",
    "\n",
    "def calculate_power_manually(base, exponent): # not optimsal O(n)\n",
    "    if exponent == 0:\n",
    "        return 1\n",
    "    if exponent < 0:\n",
    "        return 1 / calculate_power_manually(base, -exponent)  \n",
    "    result = 1\n",
    "    for _ in range(exponent):\n",
    "        result *= base  \n",
    "    return result\n",
    "\n",
    "base = 3\n",
    "exponent = 7\n",
    "print(f\"using ** operator: {calculate_power(base, exponent)}\")\n",
    "print(f\"using the function we created: {calculate_power_manually(base,exponent)}\")"
   ]
  },
  {
   "cell_type": "code",
   "execution_count": 21,
   "metadata": {},
   "outputs": [
    {
     "data": {
      "text/plain": [
       "True"
      ]
     },
     "execution_count": 21,
     "metadata": {},
     "output_type": "execute_result"
    }
   ],
   "source": [
    "# checking for anagrams\n",
    "# 2 strings are said to be anagrams if they contain same number ifg of letters and same letters in different order\n",
    "\n",
    "def is_anagram(str1, str2):\n",
    "    return sorted(str1) == sorted(str2)\n",
    "\n",
    "is_anagram(\"listen\" , \"silent\")"
   ]
  },
  {
   "cell_type": "code",
   "execution_count": null,
   "metadata": {},
   "outputs": [
    {
     "data": {
      "text/plain": [
       "18"
      ]
     },
     "execution_count": 24,
     "metadata": {},
     "output_type": "execute_result"
    }
   ],
   "source": [
    "# Finding the Sum of Prime Numbers in a Range\n",
    "\n",
    "def prime_sum(low,high):\n",
    "    primes = []\n",
    "    for i in range(low,high + 1):\n",
    "        isPrime = True\n",
    "        for num in range(2, int(i ** 0.5) + 1):\n",
    "            if i % num == 0:\n",
    "                isPrime = False\n",
    "                break\n",
    "        if isPrime:\n",
    "            primes.append(i)\n",
    "    return sum(primes)\n",
    "prime_sum(1,10)        "
   ]
  },
  {
   "cell_type": "code",
   "execution_count": 27,
   "metadata": {},
   "outputs": [
    {
     "data": {
      "text/plain": [
       "1060"
      ]
     },
     "execution_count": 27,
     "metadata": {},
     "output_type": "execute_result"
    }
   ],
   "source": [
    "# Finding the Sum of Prime Numbers in a Range\n",
    "\n",
    "def prime_sum(low, high):\n",
    "    primes = []\n",
    "    for i in range(max(2, low), high + 1):  \n",
    "        isPrime = True\n",
    "        for num in range(2, int(i ** 0.5) + 1):\n",
    "            if i % num == 0:\n",
    "                isPrime = False\n",
    "                break\n",
    "        if isPrime:\n",
    "            primes.append(i)\n",
    "    return sum(primes)\n",
    "\n",
    "prime_sum(1,100)"
   ]
  },
  {
   "cell_type": "code",
   "execution_count": 29,
   "metadata": {},
   "outputs": [
    {
     "data": {
      "text/plain": [
       "10"
      ]
     },
     "execution_count": 29,
     "metadata": {},
     "output_type": "execute_result"
    }
   ],
   "source": [
    "# Finding the N-th Triangular Number \n",
    "#   any of the series of numbers (1, 3, 6, 10, 15, etc.) obtained by continued summation of the natural numbers 1, 2, 3, 4, 5, etc.\n",
    "\n",
    "def find_nth_triangular_number(n):\n",
    "    return n * (n + 1) // 2\n",
    "\n",
    "find_nth_triangular_number(4)"
   ]
  },
  {
   "cell_type": "code",
   "execution_count": null,
   "metadata": {},
   "outputs": [
    {
     "name": "stdout",
     "output_type": "stream",
     "text": [
      "Testing first method:\n",
      "Is 16 a perfect square? True\n",
      "Is 25 a perfect square? True\n",
      "Is 15 a perfect square? False\n",
      "Is 36 a perfect square? True\n",
      "Is 0 a perfect square? True\n",
      "Is 1 a perfect square? True\n",
      "Is 4 a perfect square? True\n",
      "Is 9 a perfect square? True\n",
      "Is -4 a perfect square? False\n",
      "Is 100 a perfect square? True\n",
      "\n",
      "Testing alternative method:\n",
      "Is 16 a perfect square? True\n",
      "Is 25 a perfect square? True\n",
      "Is 15 a perfect square? False\n",
      "Is 36 a perfect square? True\n",
      "Is 0 a perfect square? True\n",
      "Is 1 a perfect square? True\n",
      "Is 4 a perfect square? True\n",
      "Is 9 a perfect square? True\n",
      "Is -4 a perfect square? False\n",
      "Is 100 a perfect square? True\n"
     ]
    }
   ],
   "source": [
    "# Checking for Perfect Square\n",
    "\n",
    "def is_perfect_square(number):\n",
    "    if number < 0:\n",
    "        return False        \n",
    "    # Method 1: Using square root and check if it's an integer ---> (O(1))\n",
    "    sqrt = number ** 0.5\n",
    "    return sqrt == int(sqrt)\n",
    "\n",
    "def is_perfect_square_alternative(number):\n",
    "    if number < 0:\n",
    "        return False        \n",
    "    # Method 2: Binary search approach  ---> O(logn)\n",
    "    if number == 0 or number == 1:\n",
    "        return True\n",
    "    left, right = 1, number // 2 \n",
    "    while left <= right:\n",
    "        mid = (left + right) // 2\n",
    "        square = mid * mid      \n",
    "        if square == number:\n",
    "            return True\n",
    "        elif square < number:\n",
    "            left = mid + 1\n",
    "        else:\n",
    "            right = mid - 1           \n",
    "    return False\n",
    "\n",
    "test_numbers = [16, 25, 15, 36, 0, 1, 4, 9, -4, 100]\n",
    "print(\"Testing first method:\")\n",
    "for num in test_numbers:\n",
    "    print(f\"Is {num} a perfect square? {is_perfect_square(num)}\")\n",
    "\n",
    "print(\"\\nTesting alternative method:\")\n",
    "for num in test_numbers:\n",
    "    print(f\"Is {num} a perfect square? {is_perfect_square_alternative(num)}\")"
   ]
  },
  {
   "cell_type": "code",
   "execution_count": 33,
   "metadata": {},
   "outputs": [
    {
     "data": {
      "text/plain": [
       "14"
      ]
     },
     "execution_count": 33,
     "metadata": {},
     "output_type": "execute_result"
    }
   ],
   "source": [
    "# Finding the Sum of Squares of Digits\n",
    "\n",
    "def sum_of_squares_of_digits(n):\n",
    "    sum_of_squares = 0\n",
    "    while n != 0:\n",
    "        rem = n % 10\n",
    "        sum_of_squares += rem ** 2\n",
    "        n //= 10\n",
    "    return sum_of_squares\n",
    "sum_of_squares_of_digits(123)"
   ]
  },
  {
   "cell_type": "code",
   "execution_count": 53,
   "metadata": {},
   "outputs": [
    {
     "name": "stdout",
     "output_type": "stream",
     "text": [
      "1 2 3\n",
      "4 5 6\n",
      "7 8 9\n"
     ]
    }
   ],
   "source": [
    "# Generating a Square Matrix of a Given Size\n",
    "\n",
    "# def square_matrix(n):\n",
    "#     z = 1\n",
    "#     for i in range(n):\n",
    "#         for j in range(n):\n",
    "#             print(z,end=\" \")\n",
    "#             z += 1\n",
    "#         print()\n",
    "# square_matrix(3)\n",
    "\n",
    "# other approach with creating a matrix instead of directly printing\n",
    "\n",
    "def generate_square_matrix(size):\n",
    "    matrix = []\n",
    "    value = 1 \n",
    "    for i in range(size):\n",
    "        row = []\n",
    "        for j in range(size):\n",
    "            row.append(value)\n",
    "            value += 1\n",
    "        matrix.append(row)  \n",
    "    for row in matrix:\n",
    "        print(\" \".join(map(str, row)))\n",
    "matrix = generate_square_matrix(3)"
   ]
  },
  {
   "cell_type": "code",
   "execution_count": null,
   "metadata": {},
   "outputs": [
    {
     "data": {
      "text/plain": [
       "2"
      ]
     },
     "execution_count": 56,
     "metadata": {},
     "output_type": "execute_result"
    }
   ],
   "source": [
    "# Calculating the Sum of Digits of a Number Until Single Digit\n",
    "\n",
    "def SOD(n):\n",
    "    sum = 0\n",
    "    while n!= 0:\n",
    "        sum = sum + n % 10\n",
    "        n = n // 10\n",
    "    if sum < 10:\n",
    "        return sum\n",
    "    else:\n",
    "        return SOD(sum)\n",
    "SOD(9875) # The sum of digits is 9 + 8 + 7 + 5 = 29, and then 2 + 9 = 11, and finally 1 + 1 = 2."
   ]
  }
 ],
 "metadata": {
  "kernelspec": {
   "display_name": "Python 3",
   "language": "python",
   "name": "python3"
  },
  "language_info": {
   "codemirror_mode": {
    "name": "ipython",
    "version": 3
   },
   "file_extension": ".py",
   "mimetype": "text/x-python",
   "name": "python",
   "nbconvert_exporter": "python",
   "pygments_lexer": "ipython3",
   "version": "3.9.6"
  }
 },
 "nbformat": 4,
 "nbformat_minor": 2
}
